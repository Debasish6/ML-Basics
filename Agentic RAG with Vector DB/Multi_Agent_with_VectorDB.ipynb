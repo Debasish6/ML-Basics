{
 "cells": [
  {
   "cell_type": "markdown",
   "metadata": {},
   "source": [
    "```markdown\n",
    "# Multi-Agent Retrieval-Augmented Generation (RAG) with Vector Database\n",
    "```"
   ]
  },
  {
   "cell_type": "code",
   "execution_count": 1,
   "metadata": {},
   "outputs": [],
   "source": [
    "import typer\n",
    "import os\n",
    "from typing import Optional,List\n",
    "from phi.assistant import Assistant\n",
    "from phi.storage.assistant.postgres import PgAssistantStorage\n",
    "from phi.knowledge.pdf import PDFUrlKnowledgeBase\n",
    "from phi.vectordb.pgvector import PgVector,SearchType\n",
    "from dotenv import load_dotenv\n"
   ]
  },
  {
   "cell_type": "code",
   "execution_count": 2,
   "metadata": {},
   "outputs": [],
   "source": [
    "load_dotenv()\n",
    "os.environ['Groq_API_Key'] = os.getenv('Groq_API_Key')"
   ]
  },
  {
   "cell_type": "code",
   "execution_count": 3,
   "metadata": {},
   "outputs": [],
   "source": [
    "db_url = \"postgresql+psycopg://ai:ai@localhost:5532/ai\""
   ]
  },
  {
   "cell_type": "code",
   "execution_count": 4,
   "metadata": {},
   "outputs": [
    {
     "data": {
      "text/html": [
       "<pre style=\"white-space:pre;overflow-x:auto;line-height:normal;font-family:Menlo,'DejaVu Sans Mono',consolas,'Courier New',monospace\"><span style=\"color: #800000; text-decoration-color: #800000; font-weight: bold\">ERROR   </span> Failed to create engine from <span style=\"color: #008000; text-decoration-color: #008000\">'db_url'</span>: No module named <span style=\"color: #008000; text-decoration-color: #008000\">'psycopg'</span>                                          \n",
       "</pre>\n"
      ],
      "text/plain": [
       "\u001b[1;31mERROR   \u001b[0m Failed to create engine from \u001b[32m'db_url'\u001b[0m: No module named \u001b[32m'psycopg'\u001b[0m                                          \n"
      ]
     },
     "metadata": {},
     "output_type": "display_data"
    },
    {
     "ename": "ModuleNotFoundError",
     "evalue": "No module named 'psycopg'",
     "output_type": "error",
     "traceback": [
      "\u001b[1;31m---------------------------------------------------------------------------\u001b[0m",
      "\u001b[1;31mModuleNotFoundError\u001b[0m                       Traceback (most recent call last)",
      "Cell \u001b[1;32mIn[4], line 3\u001b[0m\n\u001b[0;32m      1\u001b[0m knowledge_base \u001b[38;5;241m=\u001b[39m PDFUrlKnowledgeBase(\n\u001b[0;32m      2\u001b[0m     urls\u001b[38;5;241m=\u001b[39m[\u001b[38;5;124m\"\u001b[39m\u001b[38;5;124mhttps://phi-public.s3.amazonaws.com/recipes/ThaiRecipes.pdf\u001b[39m\u001b[38;5;124m\"\u001b[39m],\n\u001b[1;32m----> 3\u001b[0m     vector_db\u001b[38;5;241m=\u001b[39mPgVector(table_name\u001b[38;5;241m=\u001b[39m\u001b[38;5;124m\"\u001b[39m\u001b[38;5;124mrecipes\u001b[39m\u001b[38;5;124m\"\u001b[39m, db_url\u001b[38;5;241m=\u001b[39mdb_url, search_type\u001b[38;5;241m=\u001b[39mSearchType\u001b[38;5;241m.\u001b[39mhybrid),\n\u001b[0;32m      4\u001b[0m )\n",
      "File \u001b[1;32mc:\\Users\\eDominer\\anaconda3\\Lib\\site-packages\\phi\\vectordb\\pgvector\\pgvector.py:84\u001b[0m, in \u001b[0;36mPgVector.__init__\u001b[1;34m(self, table_name, schema, db_url, db_engine, embedder, search_type, vector_index, distance, prefix_match, vector_score_weight, content_language, schema_version, auto_upgrade_schema, reranker)\u001b[0m\n\u001b[0;32m     82\u001b[0m     \u001b[38;5;28;01mraise\u001b[39;00m \u001b[38;5;167;01mValueError\u001b[39;00m(\u001b[38;5;124m\"\u001b[39m\u001b[38;5;124mMust provide \u001b[39m\u001b[38;5;124m'\u001b[39m\u001b[38;5;124mdb_url\u001b[39m\u001b[38;5;124m'\u001b[39m\u001b[38;5;124m if \u001b[39m\u001b[38;5;124m'\u001b[39m\u001b[38;5;124mdb_engine\u001b[39m\u001b[38;5;124m'\u001b[39m\u001b[38;5;124m is None.\u001b[39m\u001b[38;5;124m\"\u001b[39m)\n\u001b[0;32m     83\u001b[0m \u001b[38;5;28;01mtry\u001b[39;00m:\n\u001b[1;32m---> 84\u001b[0m     db_engine \u001b[38;5;241m=\u001b[39m create_engine(db_url)\n\u001b[0;32m     85\u001b[0m \u001b[38;5;28;01mexcept\u001b[39;00m \u001b[38;5;167;01mException\u001b[39;00m \u001b[38;5;28;01mas\u001b[39;00m e:\n\u001b[0;32m     86\u001b[0m     logger\u001b[38;5;241m.\u001b[39merror(\u001b[38;5;124mf\u001b[39m\u001b[38;5;124m\"\u001b[39m\u001b[38;5;124mFailed to create engine from \u001b[39m\u001b[38;5;124m'\u001b[39m\u001b[38;5;124mdb_url\u001b[39m\u001b[38;5;124m'\u001b[39m\u001b[38;5;124m: \u001b[39m\u001b[38;5;132;01m{\u001b[39;00me\u001b[38;5;132;01m}\u001b[39;00m\u001b[38;5;124m\"\u001b[39m)\n",
      "File \u001b[1;32m<string>:2\u001b[0m, in \u001b[0;36mcreate_engine\u001b[1;34m(url, **kwargs)\u001b[0m\n",
      "File \u001b[1;32mc:\\Users\\eDominer\\anaconda3\\Lib\\site-packages\\sqlalchemy\\util\\deprecations.py:281\u001b[0m, in \u001b[0;36mdeprecated_params.<locals>.decorate.<locals>.warned\u001b[1;34m(fn, *args, **kwargs)\u001b[0m\n\u001b[0;32m    274\u001b[0m     \u001b[38;5;28;01mif\u001b[39;00m m \u001b[38;5;129;01min\u001b[39;00m kwargs:\n\u001b[0;32m    275\u001b[0m         _warn_with_version(\n\u001b[0;32m    276\u001b[0m             messages[m],\n\u001b[0;32m    277\u001b[0m             versions[m],\n\u001b[0;32m    278\u001b[0m             version_warnings[m],\n\u001b[0;32m    279\u001b[0m             stacklevel\u001b[38;5;241m=\u001b[39m\u001b[38;5;241m3\u001b[39m,\n\u001b[0;32m    280\u001b[0m         )\n\u001b[1;32m--> 281\u001b[0m \u001b[38;5;28;01mreturn\u001b[39;00m fn(\u001b[38;5;241m*\u001b[39margs, \u001b[38;5;241m*\u001b[39m\u001b[38;5;241m*\u001b[39mkwargs)\n",
      "File \u001b[1;32mc:\\Users\\eDominer\\anaconda3\\Lib\\site-packages\\sqlalchemy\\engine\\create.py:599\u001b[0m, in \u001b[0;36mcreate_engine\u001b[1;34m(url, **kwargs)\u001b[0m\n\u001b[0;32m    597\u001b[0m         \u001b[38;5;28;01mif\u001b[39;00m k \u001b[38;5;129;01min\u001b[39;00m kwargs:\n\u001b[0;32m    598\u001b[0m             dbapi_args[k] \u001b[38;5;241m=\u001b[39m pop_kwarg(k)\n\u001b[1;32m--> 599\u001b[0m     dbapi \u001b[38;5;241m=\u001b[39m dbapi_meth(\u001b[38;5;241m*\u001b[39m\u001b[38;5;241m*\u001b[39mdbapi_args)\n\u001b[0;32m    601\u001b[0m dialect_args[\u001b[38;5;124m\"\u001b[39m\u001b[38;5;124mdbapi\u001b[39m\u001b[38;5;124m\"\u001b[39m] \u001b[38;5;241m=\u001b[39m dbapi\n\u001b[0;32m    603\u001b[0m dialect_args\u001b[38;5;241m.\u001b[39msetdefault(\u001b[38;5;124m\"\u001b[39m\u001b[38;5;124mcompiler_linting\u001b[39m\u001b[38;5;124m\"\u001b[39m, compiler\u001b[38;5;241m.\u001b[39mNO_LINTING)\n",
      "File \u001b[1;32mc:\\Users\\eDominer\\anaconda3\\Lib\\site-packages\\sqlalchemy\\dialects\\postgresql\\psycopg.py:411\u001b[0m, in \u001b[0;36mPGDialect_psycopg.import_dbapi\u001b[1;34m(cls)\u001b[0m\n\u001b[0;32m    409\u001b[0m \u001b[38;5;129m@classmethod\u001b[39m\n\u001b[0;32m    410\u001b[0m \u001b[38;5;28;01mdef\u001b[39;00m \u001b[38;5;21mimport_dbapi\u001b[39m(\u001b[38;5;28mcls\u001b[39m):\n\u001b[1;32m--> 411\u001b[0m     \u001b[38;5;28;01mimport\u001b[39;00m \u001b[38;5;21;01mpsycopg\u001b[39;00m\n\u001b[0;32m    413\u001b[0m     \u001b[38;5;28;01mreturn\u001b[39;00m psycopg\n",
      "\u001b[1;31mModuleNotFoundError\u001b[0m: No module named 'psycopg'"
     ]
    }
   ],
   "source": [
    "knowledge_base = PDFUrlKnowledgeBase(\n",
    "    urls=[\"https://phi-public.s3.amazonaws.com/recipes/ThaiRecipes.pdf\"],\n",
    "    vector_db=PgVector(table_name=\"recipes\", db_url=db_url, search_type=SearchType.hybrid),\n",
    ")"
   ]
  },
  {
   "cell_type": "code",
   "execution_count": null,
   "metadata": {},
   "outputs": [],
   "source": [
    "# Load the knowledge base: Comment out after first run\n",
    "knowledge_base.load(recreate=True, upsert=True)"
   ]
  },
  {
   "cell_type": "code",
   "execution_count": null,
   "metadata": {},
   "outputs": [],
   "source": [
    "storage = PgAssistantStorage(table_name=\"pdf_assistant\",db_url=db_url)"
   ]
  },
  {
   "cell_type": "code",
   "execution_count": null,
   "metadata": {},
   "outputs": [],
   "source": [
    "def pdf_assistant(user: str = \"user\"):\n",
    "    run_id: Optional[str] = None\n",
    "\n",
    "    agent = Agent(\n",
    "        run_id=run_id,\n",
    "        user_id=user,\n",
    "        knowledge_base=knowledge_base,\n",
    "        use_tools=True,\n",
    "        show_tool_calls=True,\n",
    "        debug_mode=True,\n",
    "    )\n",
    "    if run_id is None:\n",
    "        run_id = agent.run_id\n",
    "        print(f\"Started Run: {run_id}\\n\")\n",
    "    else:\n",
    "        print(f\"Continuing Run: {run_id}\\n\")\n",
    "\n",
    "    while True:\n",
    "        message = Prompt.ask(f\"[bold] :sunglasses: {user} [/bold]\")\n",
    "        if message in (\"exit\", \"bye\"):\n",
    "            break\n",
    "        agent.print_response(message)\n",
    "\n",
    "\n",
    "if __name__ == \"__main__\":\n",
    "    typer.run(pdf_agent)"
   ]
  }
 ],
 "metadata": {
  "kernelspec": {
   "display_name": "base",
   "language": "python",
   "name": "python3"
  },
  "language_info": {
   "codemirror_mode": {
    "name": "ipython",
    "version": 3
   },
   "file_extension": ".py",
   "mimetype": "text/x-python",
   "name": "python",
   "nbconvert_exporter": "python",
   "pygments_lexer": "ipython3",
   "version": "3.12.7"
  }
 },
 "nbformat": 4,
 "nbformat_minor": 2
}
