{
 "cells": [
  {
   "cell_type": "code",
   "execution_count": 1,
   "metadata": {},
   "outputs": [
    {
     "name": "stdout",
     "output_type": "stream",
     "text": [
      "Collecting pdfplumber\n",
      "  Downloading pdfplumber-0.11.4-py3-none-any.whl.metadata (41 kB)\n",
      "Collecting pdfminer.six==20231228 (from pdfplumber)\n",
      "  Downloading pdfminer.six-20231228-py3-none-any.whl.metadata (4.2 kB)\n",
      "Requirement already satisfied: Pillow>=9.1 in c:\\users\\edominer\\python project\\.venv\\lib\\site-packages (from pdfplumber) (10.4.0)\n",
      "Collecting pypdfium2>=4.18.0 (from pdfplumber)\n",
      "  Downloading pypdfium2-4.30.0-py3-none-win_amd64.whl.metadata (48 kB)\n",
      "Requirement already satisfied: charset-normalizer>=2.0.0 in c:\\users\\edominer\\python project\\.venv\\lib\\site-packages (from pdfminer.six==20231228->pdfplumber) (3.4.0)\n",
      "Collecting cryptography>=36.0.0 (from pdfminer.six==20231228->pdfplumber)\n",
      "  Downloading cryptography-43.0.1-cp39-abi3-win_amd64.whl.metadata (5.4 kB)\n",
      "Collecting cffi>=1.12 (from cryptography>=36.0.0->pdfminer.six==20231228->pdfplumber)\n",
      "  Downloading cffi-1.17.1-cp310-cp310-win_amd64.whl.metadata (1.6 kB)\n",
      "Collecting pycparser (from cffi>=1.12->cryptography>=36.0.0->pdfminer.six==20231228->pdfplumber)\n",
      "  Downloading pycparser-2.22-py3-none-any.whl.metadata (943 bytes)\n",
      "Downloading pdfplumber-0.11.4-py3-none-any.whl (59 kB)\n",
      "Downloading pdfminer.six-20231228-py3-none-any.whl (5.6 MB)\n",
      "   ---------------------------------------- 0.0/5.6 MB ? eta -:--:--\n",
      "   ------------- -------------------------- 1.8/5.6 MB 10.1 MB/s eta 0:00:01\n",
      "   ----------------------------- ---------- 4.2/5.6 MB 10.1 MB/s eta 0:00:01\n",
      "   ---------------------------------------- 5.6/5.6 MB 9.8 MB/s eta 0:00:00\n",
      "Downloading pypdfium2-4.30.0-py3-none-win_amd64.whl (2.9 MB)\n",
      "   ---------------------------------------- 0.0/2.9 MB ? eta -:--:--\n",
      "   ----------------------------- ---------- 2.1/2.9 MB 9.8 MB/s eta 0:00:01\n",
      "   ---------------------------------------- 2.9/2.9 MB 9.4 MB/s eta 0:00:00\n",
      "Downloading cryptography-43.0.1-cp39-abi3-win_amd64.whl (3.1 MB)\n",
      "   ---------------------------------------- 0.0/3.1 MB ? eta -:--:--\n",
      "   ----------------------- ---------------- 1.8/3.1 MB 10.1 MB/s eta 0:00:01\n",
      "   ---------------------------------------- 3.1/3.1 MB 9.5 MB/s eta 0:00:00\n",
      "Downloading cffi-1.17.1-cp310-cp310-win_amd64.whl (181 kB)\n",
      "Downloading pycparser-2.22-py3-none-any.whl (117 kB)\n",
      "Installing collected packages: pypdfium2, pycparser, cffi, cryptography, pdfminer.six, pdfplumber\n",
      "Successfully installed cffi-1.17.1 cryptography-43.0.1 pdfminer.six-20231228 pdfplumber-0.11.4 pycparser-2.22 pypdfium2-4.30.0\n"
     ]
    }
   ],
   "source": [
    "!pip install pdfplumber"
   ]
  },
  {
   "cell_type": "code",
   "execution_count": 3,
   "metadata": {},
   "outputs": [
    {
     "name": "stdout",
     "output_type": "stream",
     "text": [
      "TAX INVOICE e-Invoice\n",
      "IRN :5b8fe4c4fee658a423aaa8f95efb6903754b3e804b7-\n",
      "8aa90097083260c70c3fa\n",
      "Ack No. :182417192479502\n",
      "Ack Date :20-Sep-24\n",
      "DIADEM TECHNOLOGIES PRIVATE LIMITED Invoice No. Dated\n",
      "Primarc Tower, Suite No. 502/503 DTPL/2425/1201 20-Sep-24\n",
      "5th Floor, DN - 36, Sector - V\n",
      "Salt Lake, Kolkata - 700091\n",
      "GSTIN/UIN: 19AABCD9005E1ZW\n",
      "State Name : West Bengal, Code : 19\n",
      "CIN: U72200WB2003PTC096904\n",
      "Contact : 6634 1414\n",
      "E-Mail : sales@diadam.in\n",
      "Buyer (Bill to)\n",
      "EDominer Technologies Pvt. Ltd.\n",
      "304, PS Continental\n",
      "83/2/1, Topsia Road (South)\n",
      "Kolkata - 700046\n",
      "GSTIN/UIN :19AAJCA4591Q1ZT\n",
      "State Name :West Bengal, Code : 19\n",
      "Place of Supply :West Bengal\n",
      "Description of HSN/SAC Amount\n",
      "Services\n",
      "Dedicated Server 998315 7000.00\n",
      "Windows - Dedicated\n",
      "Processor: E5-2680 v4 - 2.4\n",
      "Ghz\n",
      "- 14 Cores / 28 Threads\n",
      "HDDs: 960 GB x 2 SSD in RAID\n",
      "+\n",
      "1 x 240 GB m.2 nvme SSD\n",
      "RAM: 128 GB GB DDR4 RAM\n",
      "RAID: NA\n",
      "CPU Cache: 35 MB Smart\n",
      "cache\n",
      "Number of IPs: 1 Public IP\n",
      "Addresses\n",
      "with Firewall Protection\n",
      "Bandwidth: 1 TB per month\n",
      "IPs: 1 Public IP Addresses with\n",
      "Fortinet IPS Protection\n",
      "OS: Windows Server 2019 Std\n",
      "Edition with HyperV\n",
      "VMs: 2 Windows 2019 VMs\n",
      "included\n",
      "Firewall: Fortigate Network\n",
      "Protection\n",
      "with NAT enabled IP\n",
      "Server Backup: Daily\n",
      "automated backups\n",
      "with Veeam Enterprise Data\n",
      "Protection\n",
      "(Daily backups with seven\n",
      "recovery points)\n",
      "Prime Managed Support - 24x7\n",
      "continued to page number 2\n",
      "SUBJECT TO KOLKATA JURISDICTION\n",
      "Original for Recipient\n"
     ]
    }
   ],
   "source": [
    "import pdfplumber\n",
    "import re\n",
    "\n",
    "pdf_path = r\"c:/Users/edominer/Python Project/Extracting Text from Invoice/Edominer-1201.pdf\"\n",
    "\n",
    "with pdfplumber.open(pdf_path) as pdf:\n",
    "    page = pdf.pages[0]\n",
    "    text = page.extract_text()\n",
    "    for line in text.split('\\n'):\n",
    "        print(line)"
   ]
  },
  {
   "cell_type": "code",
   "execution_count": 20,
   "metadata": {},
   "outputs": [
    {
     "name": "stdout",
     "output_type": "stream",
     "text": [
      "5b8fe4c4fee658a423aaa8f95efb6903754b3e804b7-8aa90097083260c70c3fa\n"
     ]
    }
   ],
   "source": [
    "#Extracting Information\n",
    "\n",
    "irn_number = re.search(r'IRN :(.+)-\\n(.+)',text).group(1) +\"-\"+ re.search(r'IRN :(.+)-\\n(.+)',text).group(2)\n",
    "print(irn_number)"
   ]
  },
  {
   "cell_type": "code",
   "execution_count": 21,
   "metadata": {},
   "outputs": [
    {
     "ename": "AttributeError",
     "evalue": "'NoneType' object has no attribute 'group'",
     "output_type": "error",
     "traceback": [
      "\u001b[1;31m---------------------------------------------------------------------------\u001b[0m",
      "\u001b[1;31mAttributeError\u001b[0m                            Traceback (most recent call last)",
      "Cell \u001b[1;32mIn[21], line 1\u001b[0m\n\u001b[1;32m----> 1\u001b[0m item_description \u001b[38;5;241m=\u001b[39m \u001b[43mre\u001b[49m\u001b[38;5;241;43m.\u001b[39;49m\u001b[43msearch\u001b[49m\u001b[43m(\u001b[49m\u001b[38;5;124;43mr\u001b[39;49m\u001b[38;5;124;43m'\u001b[39;49m\u001b[38;5;124;43mDescription of HSN/SAC Amount\u001b[39;49m\u001b[38;5;124;43m\\\u001b[39;49m\u001b[38;5;124;43mnServices(.+)\u001b[39;49m\u001b[38;5;124;43m'\u001b[39;49m\u001b[43m,\u001b[49m\u001b[43mtext\u001b[49m\u001b[43m)\u001b[49m\u001b[38;5;241;43m.\u001b[39;49m\u001b[43mgroup\u001b[49m(\u001b[38;5;241m0\u001b[39m)\n\u001b[0;32m      2\u001b[0m \u001b[38;5;28mprint\u001b[39m(item_description)\n",
      "\u001b[1;31mAttributeError\u001b[0m: 'NoneType' object has no attribute 'group'"
     ]
    }
   ],
   "source": [
    "item_description = re.search(r'Description of HSN/SAC Amount\\nServices(.+)',text).group(0)\n",
    "print(item_description)"
   ]
  },
  {
   "cell_type": "code",
   "execution_count": 26,
   "metadata": {},
   "outputs": [
    {
     "data": {
      "text/plain": [
       "-1"
      ]
     },
     "execution_count": 26,
     "metadata": {},
     "output_type": "execute_result"
    }
   ],
   "source": [
    "import cv2\n",
    "import numpy as np\n",
    "cv2.imshow('Image',np.array(page.to_image().original))\n",
    "cv2.waitKey(0)"
   ]
  },
  {
   "cell_type": "code",
   "execution_count": 27,
   "metadata": {},
   "outputs": [
    {
     "ename": "KeyError",
     "evalue": "'/XObject'",
     "output_type": "error",
     "traceback": [
      "\u001b[1;31m---------------------------------------------------------------------------\u001b[0m",
      "\u001b[1;31mKeyError\u001b[0m                                  Traceback (most recent call last)",
      "Cell \u001b[1;32mIn[27], line 23\u001b[0m\n\u001b[0;32m     19\u001b[0m     \u001b[38;5;28;01mreturn\u001b[39;00m images\n\u001b[0;32m     21\u001b[0m \u001b[38;5;66;03m# Example usage\u001b[39;00m\n\u001b[0;32m     22\u001b[0m \u001b[38;5;66;03m# pdf_path = 'your_two_page_pdf.pdf'\u001b[39;00m\n\u001b[1;32m---> 23\u001b[0m extracted_images \u001b[38;5;241m=\u001b[39m \u001b[43mextract_images_from_pdf\u001b[49m\u001b[43m(\u001b[49m\u001b[43mpdf_path\u001b[49m\u001b[43m)\u001b[49m\n\u001b[0;32m     25\u001b[0m \u001b[38;5;28;01mfor\u001b[39;00m image \u001b[38;5;129;01min\u001b[39;00m extracted_images:\n\u001b[0;32m     26\u001b[0m     cv2\u001b[38;5;241m.\u001b[39mimshow(\u001b[38;5;124m'\u001b[39m\u001b[38;5;124mImage\u001b[39m\u001b[38;5;124m'\u001b[39m, image)\n",
      "Cell \u001b[1;32mIn[27], line 13\u001b[0m, in \u001b[0;36mextract_images_from_pdf\u001b[1;34m(pdf_path)\u001b[0m\n\u001b[0;32m     10\u001b[0m \u001b[38;5;28;01mfor\u001b[39;00m page_num \u001b[38;5;129;01min\u001b[39;00m \u001b[38;5;28mrange\u001b[39m(num_pages):\n\u001b[0;32m     11\u001b[0m     page \u001b[38;5;241m=\u001b[39m pdf_reader\u001b[38;5;241m.\u001b[39mpages[page_num]\n\u001b[1;32m---> 13\u001b[0m     \u001b[38;5;28;01mfor\u001b[39;00m xObject \u001b[38;5;129;01min\u001b[39;00m \u001b[43mpage\u001b[49m\u001b[43m[\u001b[49m\u001b[38;5;124;43m'\u001b[39;49m\u001b[38;5;124;43m/XObject\u001b[39;49m\u001b[38;5;124;43m'\u001b[39;49m\u001b[43m]\u001b[49m:\n\u001b[0;32m     14\u001b[0m         \u001b[38;5;28;01mif\u001b[39;00m page[\u001b[38;5;124m'\u001b[39m\u001b[38;5;124m/XObject\u001b[39m\u001b[38;5;124m'\u001b[39m][xObject][\u001b[38;5;124m'\u001b[39m\u001b[38;5;124m/Subtype\u001b[39m\u001b[38;5;124m'\u001b[39m] \u001b[38;5;241m==\u001b[39m \u001b[38;5;124m'\u001b[39m\u001b[38;5;124m/Image\u001b[39m\u001b[38;5;124m'\u001b[39m:\n\u001b[0;32m     15\u001b[0m             image_data \u001b[38;5;241m=\u001b[39m page[\u001b[38;5;124m'\u001b[39m\u001b[38;5;124m/XObject\u001b[39m\u001b[38;5;124m'\u001b[39m][xObject]\u001b[38;5;241m.\u001b[39mgetData()\n",
      "File \u001b[1;32mc:\\Users\\edominer\\Python Project\\.venv\\lib\\site-packages\\PyPDF2\\generic\\_data_structures.py:266\u001b[0m, in \u001b[0;36mDictionaryObject.__getitem__\u001b[1;34m(self, key)\u001b[0m\n\u001b[0;32m    265\u001b[0m \u001b[38;5;28;01mdef\u001b[39;00m \u001b[38;5;21m__getitem__\u001b[39m(\u001b[38;5;28mself\u001b[39m, key: Any) \u001b[38;5;241m-\u001b[39m\u001b[38;5;241m>\u001b[39m PdfObject:\n\u001b[1;32m--> 266\u001b[0m     \u001b[38;5;28;01mreturn\u001b[39;00m \u001b[38;5;28;43mdict\u001b[39;49m\u001b[38;5;241;43m.\u001b[39;49m\u001b[38;5;21;43m__getitem__\u001b[39;49m\u001b[43m(\u001b[49m\u001b[38;5;28;43mself\u001b[39;49m\u001b[43m,\u001b[49m\u001b[43m \u001b[49m\u001b[43mkey\u001b[49m\u001b[43m)\u001b[49m\u001b[38;5;241m.\u001b[39mget_object()\n",
      "\u001b[1;31mKeyError\u001b[0m: '/XObject'"
     ]
    }
   ],
   "source": [
    "import PyPDF2\n",
    "import cv2\n",
    "\n",
    "def extract_images_from_pdf(pdf_path):\n",
    "    images = []\n",
    "    with open(pdf_path, 'rb') as pdf_file:\n",
    "        pdf_reader = PyPDF2.PdfReader(pdf_file)\n",
    "        num_pages = len(pdf_reader.pages)\n",
    "\n",
    "        for page_num in range(num_pages):\n",
    "            page = pdf_reader.pages[page_num]\n",
    "\n",
    "            for xObject in page['/XObject']:\n",
    "                if page['/XObject'][xObject]['/Subtype'] == '/Image':\n",
    "                    image_data = page['/XObject'][xObject].getData()\n",
    "                    image = cv2.imdecode(np.frombuffer(image_data, np.uint8), cv2.IMREAD_COLOR)\n",
    "                    images.append(image)\n",
    "\n",
    "    return images\n",
    "\n",
    "# Example usage\n",
    "# pdf_path = 'your_two_page_pdf.pdf'\n",
    "extracted_images = extract_images_from_pdf(pdf_path)\n",
    "\n",
    "for image in extracted_images:\n",
    "    cv2.imshow('Image', image)\n",
    "    cv2.waitKey(0)\n",
    "    cv2.destroyAllWindows()"
   ]
  }
 ],
 "metadata": {
  "kernelspec": {
   "display_name": ".venv",
   "language": "python",
   "name": "python3"
  },
  "language_info": {
   "codemirror_mode": {
    "name": "ipython",
    "version": 3
   },
   "file_extension": ".py",
   "mimetype": "text/x-python",
   "name": "python",
   "nbconvert_exporter": "python",
   "pygments_lexer": "ipython3",
   "version": "3.10.0"
  }
 },
 "nbformat": 4,
 "nbformat_minor": 2
}
