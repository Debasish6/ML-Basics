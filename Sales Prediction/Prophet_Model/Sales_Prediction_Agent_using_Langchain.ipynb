{
 "cells": [
  {
   "cell_type": "markdown",
   "metadata": {},
   "source": [
    "## Sales Prediction Agent using Langchain"
   ]
  },
  {
   "cell_type": "code",
   "execution_count": 1,
   "metadata": {},
   "outputs": [],
   "source": [
    "import pandas as pd\n",
    "import matplotlib.pyplot as plt\n",
    "from prophet import Prophet\n",
    "from sqlalchemy import create_engine\n",
    "import os,sys\n",
    "from dotenv import load_dotenv"
   ]
  },
  {
   "cell_type": "code",
   "execution_count": 2,
   "metadata": {},
   "outputs": [
    {
     "name": "stdout",
     "output_type": "stream",
     "text": [
      "sa clouderp123! essentials 103.172.151.143\n"
     ]
    }
   ],
   "source": [
    "try:\n",
    "    load_dotenv()\n",
    "    db_username = os.getenv(\"db_username\")\n",
    "    db_password = os.getenv(\"db_password\")\n",
    "    db_host = os.getenv(\"db_hostname\")\n",
    "    db_name = os.getenv(\"db_database\")\n",
    "    db_server = os.getenv(\"db_server\")\n",
    "    print(db_username, db_password, db_name, db_server)\n",
    "\n",
    "    connection_string = f'mssql+pyodbc://{db_username}:{db_password}@{db_server}/{db_name}?driver=ODBC+Driver+17+for+SQL+Server'\n",
    "    engine = create_engine(connection_string)\n",
    "except Exception as e:\n",
    "    print(\"Error connecting to SQL Server:\", e)\n",
    "    sys.exit(1)"
   ]
  },
  {
   "cell_type": "code",
   "execution_count": 3,
   "metadata": {},
   "outputs": [],
   "source": [
    "import pandas as pd\n",
    "query = os.getenv(\"SQL_QUERY\")"
   ]
  },
  {
   "cell_type": "code",
   "execution_count": 4,
   "metadata": {},
   "outputs": [
    {
     "data": {
      "text/plain": [
       "\"SELECT rep.contactname AS repcontactname, docuserfield1, docuserfield2, docuserfield3, cast(packinglistdetails.prodnetweight AS decimal(18, 2)) AS prodnetweight, cast(packinglistdetails.prodgrossweight AS decimal(18, 2)) AS prodgrossweight, documents.docid, documentstatus.docstatusname, documentdetails.docpaymentterms, documentdetails.docdeliveryterms, documentdetails.ewbnum, documents.docnum AS billnum, CASE WHEN isnull(documents.docrefnum, '') = '' OR documents.docrefnum = documents.docnum THEN stuff( (SELECT ';' + doc1.docrefnum FROM documentreldoc INNER JOIN documents doc1 ON documentreldoc.doctodocid=doc1.docid INNER JOIN documenttypes ON documenttypes.doctypeid=doc1.doctypeid AND documenttypes.doctypeindex IN (3, 60) WHERE documentreldoc.docid =documents.docid GROUP BY doc1.docrefnum FOR XML path('')), 1, 1, '') ELSE documents.docrefnum END docrefnum, CASE WHEN isnull(documents.docrefnum, '') = '' OR documents.docrefnum = documents.docnum THEN stuff( (SELECT ';' + convert(varchar,isnull(doc1.docrefdate, ''), 103) FROM documentreldoc INNER JOIN documents doc1 ON documentreldoc.doctodocid=doc1.docid INNER JOIN documenttypes ON documenttypes.doctypeid=doc1.doctypeid AND documenttypes.doctypeindex IN (3, 60) WHERE documentreldoc.docid =documents.docid GROUP BY convert(varchar,isnull(doc1.docrefdate, ''), 103) FOR XML path('')), 1, 1, '') ELSE convert(varchar,isnull(documents.docrefdate, ''), 103) END docrefdate, convert(varchar, documents.docopendate, 103) AS billdate, CASE WHEN isnull(loyaltycontactname, '') = '' THEN contacts.contactname ELSE loyaltycontactname END contactname, cast(documents.docamount AS decimal(18, 2)) AS docamount, cast(isnull(vouchers.exchangerate, documents.exchangerate) AS decimal(18, 2)) AS exchangerate, cast(productdocs.prodassessablevalue * isnull(vouchers.exchangerate, documents.exchangerate) AS decimal(18, 2)) AS docamountinr, documents.docgrossamount, isnull(documents.docotherchargeamount, 0.00) AS docotherchargeamount, cast(isnull(documents.docotherchargeamount, 0.00) - isnull(tcs.tcsamount, 0.0) AS decimal(18, 2)) AS docotherchargeamount_subtcs, products.prodnum AS productno, products.prodhsncode AS hsncode, CASE WHEN isnull(CASE WHEN documenttypes.mrpvisible=1 THEN productdocs.prodmrpdiscpercentage ELSE productdocs.proddiscpercentage END, 0.00)=0 THEN format(isnull(CASE WHEN documenttypes.mrpvisible=1 THEN productdocs.prodmrpdisc ELSE productdocs.proddisc END, 0.00), 'f2') ELSE format(isnull(CASE WHEN documenttypes.mrpvisible=1 THEN productdocs.prodmrpdiscpercentage ELSE productdocs.proddiscpercentage END, 0.00), 'f2') + '%' END AS proddisc, cast((productdocs.prodcontactqty * productdocs.prodcontactrate) AS decimal(18, 2)) AS prodvaluebeforedisc, cast(productdocs.proddocvalue AS decimal(18, 2)) AS proddocvalue, cast(productdocs.proddocvalue*isnull(vouchers.exchangerate, documents.exchangerate) AS decimal(19, 2)) AS proddocvalueinr, productdocs.prodassessablevalue AS prodassessablevalue, cast(productdocs.prodassessablevalue*isnull(vouchers.exchangerate, documents.exchangerate) AS decimal(19, 2)) AS prodassessablevalueinr, currencies.currencycode, productdocs.prodassessablevalue AS docamountcalculated, cast(productdocs.prodcontactqty AS decimal(18, 2)) AS prodcontactqty, cast(productdocs.proddocqty AS decimal(18, 2)) AS proddocqty, cast(productdocs.prodcontactrate AS decimal(18, 2)) AS prodcontactrate, unitsofmeasurement.uomname, stkuom.uomname AS stkuom, productdocs.prodotherchargeamount, igst.otherchargepercentage AS igstper, isnull(igst.igstamount, 0.0) AS igst, isnull(othercharges.othercharge, 0.0) AS otherchargeamount, cgst.otherchargepercentage AS cgstper, isnull(cgst.cgstamount, 0.0) AS cgst, sgst.otherchargepercentage AS sgstper, isnull(sgst.sgstamount, 0.0) AS sgst, contacttaxdetails.gstn, tcs.otherchargepercentage AS tcsper, isnull(tcs.tcsamount, 0.0) AS tcs, CASE WHEN isnull(vesselnum, '') = '' THEN (SELECT top 1 vesselnum FROM documentreldoc INNER JOIN documents dn ON documentreldoc.doctodocid = dn.docid INNER JOIN documenttypes dntype ON dn.doctypeid=dntype.doctypeid AND dntype.doctypeindex = 29 INNER JOIN packinglist ON packinglist.docid = dn.docid WHERE documentreldoc.docid = documents.docid ORDER BY dn.docopendate) ELSE vesselnum END vesselnum, CASE WHEN isnull(transportername, '') = '' THEN (SELECT top 1 transportername FROM documentreldoc INNER JOIN documents dn ON documentreldoc.doctodocid = dn.docid INNER JOIN documenttypes dntype ON dn.doctypeid=dntype.doctypeid AND dntype.doctypeindex = 29 INNER JOIN packinglist ON packinglist.docid = dn.docid WHERE documentreldoc.docid = documents.docid ORDER BY dn.docopendate) ELSE transportername END transportername, CASE WHEN isnull(lrnum, '') = '' THEN (SELECT top 1 lrnum FROM documentreldoc INNER JOIN documents dn ON documentreldoc.doctodocid = dn.docid INNER JOIN documenttypes dntype ON dn.doctypeid=dntype.doctypeid AND dntype.doctypeindex = 29 INNER JOIN packinglist ON packinglist.docid = dn.docid WHERE documentreldoc.docid = documents.docid ORDER BY dn.docopendate) ELSE lrnum END lrnum, isnull(documents.docotherchargeamount, 0.00) * isnull(vouchers.exchangerate, documents.exchangerate) docotherchargeamountinr, consgnee.contactname AS consignee, consgneecountry.countryname AS consigneecountry, packinglist.portdeliverylocation AS finaldestinationport, products.prodname, documenttypes.doctypeindex, documentdetails.docnotes FROM documents INNER JOIN documenttypes ON documents.doctypeid=documenttypes.doctypeid INNER JOIN documentstatus ON documents.docstatusid =documentstatus.docstatusid LEFT JOIN documentdetails ON documentdetails.docid=documents.docid INNER JOIN productdocs ON documents.docid= productdocs.docid INNER JOIN currencies ON documents.currencyid = currencies.currencyid INNER JOIN products ON productdocs.prodid=products.prodid LEFT JOIN packinglist ON documents.docid = packinglist.docid LEFT JOIN (SELECT sum(prodnetweight) prodnetweight, sum(prodgrossweight) prodgrossweight, docid, prodid FROM packinglistdetails GROUP BY docid, prodid) packinglistdetails ON packinglistdetails.docid=documents.docid AND packinglistdetails.prodid=products.prodid LEFT JOIN contacts ON documents.contactid=contacts.contactid LEFT JOIN vouchers ON documents.voucherid=vouchers.voucherid LEFT JOIN contacts rep ON rep.contactid=documents.repcontactid LEFT JOIN contactaddressdetails ON contactaddressdetails.contactid=documents.contactid AND contactaddressdetails.contaddprimary=1 LEFT JOIN countries ON countries.countryid=contactaddressdetails.countryid LEFT JOIN contactlocations ON contactlocations.contlocationid=contacts.contlocationid LEFT JOIN contacttaxdetails ON documents.contactaddressid=contacttaxdetails.contactaddressid LEFT JOIN states ON states.stateid=contacttaxdetails.gstnstateid LEFT OUTER JOIN unitsofmeasurement ON productdocs.prodcontactuomid =unitsofmeasurement.uomid LEFT OUTER JOIN unitsofmeasurement stkuom ON products.uomid =stkuom.uomid LEFT OUTER JOIN (SELECT docprodothercharges.docid, docprodothercharges.prodid, docprodothercharges.otherchargepercentage, isnull(docprodothercharges.otherchargeamount, 0) AS igstamount, otherchargetypes.otherchargename, otherchargetypes.otherchargeindex FROM docprodothercharges LEFT JOIN otherchargetypes ON docprodothercharges.otherchargetypeid = otherchargetypes.otherchargetypeid WHERE otherchargetypes.otherchargeindex IN (85)) AS igst ON documents.docid=igst.docid AND products.prodid=igst.prodid LEFT OUTER JOIN (SELECT docprodothercharges.docid, docprodothercharges.prodid, docprodothercharges.otherchargepercentage, isnull(docprodothercharges.otherchargeamount, 0) AS cgstamount, otherchargetypes.otherchargename, otherchargetypes.otherchargeindex FROM docprodothercharges LEFT JOIN otherchargetypes ON docprodothercharges.otherchargetypeid = otherchargetypes.otherchargetypeid WHERE otherchargetypes.otherchargeindex IN (86)) AS cgst ON documents.docid=cgst.docid AND products.prodid=cgst.prodid LEFT OUTER JOIN (SELECT docprodothercharges.docid, docprodothercharges.prodid, docprodothercharges.otherchargepercentage, isnull(docprodothercharges.otherchargeamount, 0) AS sgstamount, otherchargetypes.otherchargename, otherchargetypes.otherchargeindex FROM docprodothercharges LEFT JOIN otherchargetypes ON docprodothercharges.otherchargetypeid = otherchargetypes.otherchargetypeid WHERE otherchargetypes.otherchargeindex IN (87)) AS sgst ON documents.docid=sgst.docid AND products.prodid=sgst.prodid LEFT OUTER JOIN (SELECT docothercharges.docid, docothercharges.otherchargepercentage, isnull(docothercharges.otherchargeamount, 0) AS tcsamount, otherchargetypes.otherchargename, otherchargetypes.otherchargeindex FROM docothercharges LEFT JOIN otherchargetypes ON docothercharges.otherchargetypeid = otherchargetypes.otherchargetypeid WHERE otherchargetypes.otherchargeindex IN (93)) AS tcs ON documents.docid=tcs.docid LEFT JOIN (SELECT docprodothercharges.docid, docprodothercharges.prodid, isnull(sum(CASE isnull(otherchargetypes.otherchargeisadded, 0) WHEN 1 THEN isnull(docprodothercharges.otherchargeamount, 0.0) ELSE isnull(docprodothercharges.otherchargeamount, 0.0) * -1 END), 0.0) AS othercharge FROM docprodothercharges LEFT JOIN otherchargetypes ON docprodothercharges.otherchargetypeid = otherchargetypes.otherchargetypeid LEFT JOIN documents ON docprodothercharges.docid = documents.docid WHERE isnull(otherchargetypes.otherchargeindex, 0) NOT IN (85, 86, 87, 93) GROUP BY docprodothercharges.docid, docprodothercharges.prodid) AS othercharges ON documents.docid=othercharges.docid AND productdocs.prodid=othercharges.prodid LEFT OUTER JOIN accounts ON documents.accountid=accounts.accountid LEFT JOIN (SELECT loyaltycontacts.loyaltycontactname, loyaltycontactgstn, loyaltytransaction.docid FROM loyaltytransaction LEFT JOIN loyaltycontacts ON loyaltytransaction.loyaltycontactid=loyaltycontacts.loyaltycontactid LEFT JOIN loyaltycontactdetails ON loyaltycontacts.loyaltycontactid=loyaltycontactdetails.loyaltycontactid GROUP BY loyaltytransaction.docid, loyaltycontacts.loyaltycontactname, loyaltycontactgstn) loyaltydetails ON loyaltydetails.docid = documents.docid LEFT JOIN contacts consgnee ON packinglist.consigneecontactid = consgnee.contactid LEFT JOIN contactaddressdetails consgneeaddrs ON consgnee.contactid = consgneeaddrs.contactid AND consgneeaddrs.contaddprimary = 1 LEFT JOIN countries consgneecountry ON consgneeaddrs.countryid = consgneecountry.countryid WHERE documenttypes.doctypeindex IN (7, 61, 192) AND documents.channelid IN (6344857551160510351, 6363962037922474671, 6364435800995224531, 6364687715781251751, 6365066345330887331, 6365923869468451711, 6366105129719436971, 6366976962336770801, 6367045092425253171, 6367045188881958191, 6367045237694398651, 6367304240599195951, 6367306072292783351, 6372179198661547171, 6372179215602628261, 6373084425659796071, 6377940949467645041, 6377948772306966211, 6378554944493907661, 6378555065404435001, 6378555092136624261, 6379469345658346411, 6379928361665367831, 6380013409668228351, 6381673919573588751) AND documentstatus.docstatusindex <>99 AND documents.docopendate>='2022-04-01' AND documents.docopendate< dateadd(DAY, 1, '2025-03-31') ORDER BY documents.docopendate, documents.docnum\""
      ]
     },
     "execution_count": 4,
     "metadata": {},
     "output_type": "execute_result"
    }
   ],
   "source": [
    "query"
   ]
  },
  {
   "cell_type": "code",
   "execution_count": 5,
   "metadata": {},
   "outputs": [],
   "source": [
    "df = pd.read_sql(query, engine)\n",
    "engine.dispose()"
   ]
  },
  {
   "cell_type": "code",
   "execution_count": 6,
   "metadata": {},
   "outputs": [
    {
     "data": {
      "text/plain": [
       "Index(['repcontactname', 'docuserfield1', 'docuserfield2', 'docuserfield3',\n",
       "       'prodnetweight', 'prodgrossweight', 'docid', 'docstatusname',\n",
       "       'docpaymentterms', 'docdeliveryterms', 'ewbnum', 'billnum', 'docrefnum',\n",
       "       'docrefdate', 'billdate', 'contactname', 'docamount', 'exchangerate',\n",
       "       'docamountinr', 'docgrossamount', 'docotherchargeamount',\n",
       "       'docotherchargeamount_subtcs', 'productno', 'hsncode', 'proddisc',\n",
       "       'prodvaluebeforedisc', 'proddocvalue', 'proddocvalueinr',\n",
       "       'prodassessablevalue', 'prodassessablevalueinr', 'currencycode',\n",
       "       'docamountcalculated', 'prodcontactqty', 'proddocqty',\n",
       "       'prodcontactrate', 'uomname', 'stkuom', 'prodotherchargeamount',\n",
       "       'igstper', 'igst', 'otherchargeamount', 'cgstper', 'cgst', 'sgstper',\n",
       "       'sgst', 'gstn', 'tcsper', 'tcs', 'vesselnum', 'transportername',\n",
       "       'lrnum', 'docotherchargeamountinr', 'consignee', 'consigneecountry',\n",
       "       'finaldestinationport', 'prodname', 'doctypeindex', 'docnotes'],\n",
       "      dtype='object')"
      ]
     },
     "execution_count": 6,
     "metadata": {},
     "output_type": "execute_result"
    }
   ],
   "source": [
    "df.columns"
   ]
  },
  {
   "cell_type": "code",
   "execution_count": null,
   "metadata": {},
   "outputs": [],
   "source": []
  }
 ],
 "metadata": {
  "kernelspec": {
   "display_name": "base",
   "language": "python",
   "name": "python3"
  },
  "language_info": {
   "codemirror_mode": {
    "name": "ipython",
    "version": 3
   },
   "file_extension": ".py",
   "mimetype": "text/x-python",
   "name": "python",
   "nbconvert_exporter": "python",
   "pygments_lexer": "ipython3",
   "version": "3.12.7"
  }
 },
 "nbformat": 4,
 "nbformat_minor": 2
}
