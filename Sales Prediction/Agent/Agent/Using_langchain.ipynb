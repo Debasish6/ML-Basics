{
 "cells": [
  {
   "cell_type": "code",
   "execution_count": 1,
   "metadata": {},
   "outputs": [],
   "source": [
    "from langchain_groq import ChatGroq\n",
    "from langchain.prompts import PromptTemplate\n",
    "# from langchain.chains import LLMChain\n",
    "from langchain_core.runnables.base import RunnableSequence\n",
    "import openai,pandas as pd\n",
    "import os\n",
    "from dotenv import load_dotenv"
   ]
  },
  {
   "cell_type": "code",
   "execution_count": 2,
   "metadata": {},
   "outputs": [],
   "source": [
    "load_dotenv()\n",
    "\n",
    "api_key = os.getenv(\"Groq_API_Key\")\n",
    "\n",
    "llm = ChatGroq(model=\"llama3-8b-8192\",api_key=api_key, temperature=0.3)"
   ]
  },
  {
   "cell_type": "code",
   "execution_count": 3,
   "metadata": {},
   "outputs": [],
   "source": [
    "prompt_template = \"\"\"\n",
    "Given the following stock data for the past six months, predict the stock needs for the next month for each product:\n",
    "\n",
    "{data}\n",
    "\n",
    "The prediction should consider sales trends, product popularity, and stock shortages.\n",
    "\n",
    "Additionally, provide recommendations to move products from stores with lower demand to stores with higher demand.\n",
    "\n",
    "Provide predictions and recommendations in the following format:\n",
    "\n",
    "- StoreID: 1, Product: Product A, Predicted Stock: <predicted_value>\n",
    "- StoreID: 2, Product: Product B, Predicted Stock: <predicted_value>\n",
    "\n",
    "Recommendations:\n",
    "- Move <quantity> of Product A from Store <low_demand_store_id> to Store <high_demand_store_id>\n",
    "\"\"\"\n",
    "\n",
    "prompt = PromptTemplate(input_variables=[\"data\"], template=prompt_template)\n"
   ]
  },
  {
   "cell_type": "code",
   "execution_count": 4,
   "metadata": {},
   "outputs": [
    {
     "name": "stderr",
     "output_type": "stream",
     "text": [
      "C:\\Users\\eDominer\\AppData\\Local\\Temp\\ipykernel_1248\\4021793692.py:1: DtypeWarning: Columns (10,12) have mixed types. Specify dtype option on import or set low_memory=False.\n",
      "  df = pd.read_csv(r\"C:\\Users\\eDominer\\Python Project\\Sales Prediction\\Agent\\sales.csv\")\n"
     ]
    },
    {
     "data": {
      "text/html": [
       "<div>\n",
       "<style scoped>\n",
       "    .dataframe tbody tr th:only-of-type {\n",
       "        vertical-align: middle;\n",
       "    }\n",
       "\n",
       "    .dataframe tbody tr th {\n",
       "        vertical-align: top;\n",
       "    }\n",
       "\n",
       "    .dataframe thead th {\n",
       "        text-align: right;\n",
       "    }\n",
       "</style>\n",
       "<table border=\"1\" class=\"dataframe\">\n",
       "  <thead>\n",
       "    <tr style=\"text-align: right;\">\n",
       "      <th></th>\n",
       "      <th>product_id</th>\n",
       "      <th>store_id</th>\n",
       "      <th>date</th>\n",
       "      <th>sales</th>\n",
       "      <th>revenue</th>\n",
       "      <th>stock</th>\n",
       "      <th>price</th>\n",
       "      <th>promo_type_1</th>\n",
       "      <th>promo_bin_1</th>\n",
       "      <th>promo_type_2</th>\n",
       "      <th>promo_bin_2</th>\n",
       "      <th>promo_discount_2</th>\n",
       "      <th>promo_discount_type_2</th>\n",
       "    </tr>\n",
       "  </thead>\n",
       "  <tbody>\n",
       "    <tr>\n",
       "      <th>0</th>\n",
       "      <td>P0001</td>\n",
       "      <td>S0002</td>\n",
       "      <td>2017-01-02</td>\n",
       "      <td>0.0</td>\n",
       "      <td>0.00</td>\n",
       "      <td>8.0</td>\n",
       "      <td>6.25</td>\n",
       "      <td>PR14</td>\n",
       "      <td>NaN</td>\n",
       "      <td>PR03</td>\n",
       "      <td>NaN</td>\n",
       "      <td>NaN</td>\n",
       "      <td>NaN</td>\n",
       "    </tr>\n",
       "    <tr>\n",
       "      <th>1</th>\n",
       "      <td>P0001</td>\n",
       "      <td>S0012</td>\n",
       "      <td>2017-01-02</td>\n",
       "      <td>1.0</td>\n",
       "      <td>5.30</td>\n",
       "      <td>0.0</td>\n",
       "      <td>6.25</td>\n",
       "      <td>PR14</td>\n",
       "      <td>NaN</td>\n",
       "      <td>PR03</td>\n",
       "      <td>NaN</td>\n",
       "      <td>NaN</td>\n",
       "      <td>NaN</td>\n",
       "    </tr>\n",
       "    <tr>\n",
       "      <th>2</th>\n",
       "      <td>P0001</td>\n",
       "      <td>S0013</td>\n",
       "      <td>2017-01-02</td>\n",
       "      <td>2.0</td>\n",
       "      <td>10.59</td>\n",
       "      <td>0.0</td>\n",
       "      <td>6.25</td>\n",
       "      <td>PR14</td>\n",
       "      <td>NaN</td>\n",
       "      <td>PR03</td>\n",
       "      <td>NaN</td>\n",
       "      <td>NaN</td>\n",
       "      <td>NaN</td>\n",
       "    </tr>\n",
       "    <tr>\n",
       "      <th>3</th>\n",
       "      <td>P0001</td>\n",
       "      <td>S0023</td>\n",
       "      <td>2017-01-02</td>\n",
       "      <td>0.0</td>\n",
       "      <td>0.00</td>\n",
       "      <td>6.0</td>\n",
       "      <td>6.25</td>\n",
       "      <td>PR14</td>\n",
       "      <td>NaN</td>\n",
       "      <td>PR03</td>\n",
       "      <td>NaN</td>\n",
       "      <td>NaN</td>\n",
       "      <td>NaN</td>\n",
       "    </tr>\n",
       "    <tr>\n",
       "      <th>4</th>\n",
       "      <td>P0001</td>\n",
       "      <td>S0025</td>\n",
       "      <td>2017-01-02</td>\n",
       "      <td>0.0</td>\n",
       "      <td>0.00</td>\n",
       "      <td>1.0</td>\n",
       "      <td>6.25</td>\n",
       "      <td>PR14</td>\n",
       "      <td>NaN</td>\n",
       "      <td>PR03</td>\n",
       "      <td>NaN</td>\n",
       "      <td>NaN</td>\n",
       "      <td>NaN</td>\n",
       "    </tr>\n",
       "  </tbody>\n",
       "</table>\n",
       "</div>"
      ],
      "text/plain": [
       "  product_id store_id        date  sales  revenue  stock  price promo_type_1  \\\n",
       "0      P0001    S0002  2017-01-02    0.0     0.00    8.0   6.25         PR14   \n",
       "1      P0001    S0012  2017-01-02    1.0     5.30    0.0   6.25         PR14   \n",
       "2      P0001    S0013  2017-01-02    2.0    10.59    0.0   6.25         PR14   \n",
       "3      P0001    S0023  2017-01-02    0.0     0.00    6.0   6.25         PR14   \n",
       "4      P0001    S0025  2017-01-02    0.0     0.00    1.0   6.25         PR14   \n",
       "\n",
       "  promo_bin_1 promo_type_2 promo_bin_2  promo_discount_2 promo_discount_type_2  \n",
       "0         NaN         PR03         NaN               NaN                   NaN  \n",
       "1         NaN         PR03         NaN               NaN                   NaN  \n",
       "2         NaN         PR03         NaN               NaN                   NaN  \n",
       "3         NaN         PR03         NaN               NaN                   NaN  \n",
       "4         NaN         PR03         NaN               NaN                   NaN  "
      ]
     },
     "execution_count": 4,
     "metadata": {},
     "output_type": "execute_result"
    }
   ],
   "source": [
    "df = pd.read_csv(r\"C:\\Users\\eDominer\\Python Project\\Sales Prediction\\Agent\\sales.csv\")\n",
    "df.head()\n"
   ]
  },
  {
   "cell_type": "code",
   "execution_count": 5,
   "metadata": {},
   "outputs": [
    {
     "data": {
      "text/html": [
       "<div>\n",
       "<style scoped>\n",
       "    .dataframe tbody tr th:only-of-type {\n",
       "        vertical-align: middle;\n",
       "    }\n",
       "\n",
       "    .dataframe tbody tr th {\n",
       "        vertical-align: top;\n",
       "    }\n",
       "\n",
       "    .dataframe thead th {\n",
       "        text-align: right;\n",
       "    }\n",
       "</style>\n",
       "<table border=\"1\" class=\"dataframe\">\n",
       "  <thead>\n",
       "    <tr style=\"text-align: right;\">\n",
       "      <th></th>\n",
       "      <th>product_id</th>\n",
       "      <th>store_id</th>\n",
       "      <th>date</th>\n",
       "      <th>sales</th>\n",
       "      <th>revenue</th>\n",
       "      <th>stock</th>\n",
       "      <th>price</th>\n",
       "      <th>promo_type_2</th>\n",
       "    </tr>\n",
       "  </thead>\n",
       "  <tbody>\n",
       "    <tr>\n",
       "      <th>0</th>\n",
       "      <td>P0001</td>\n",
       "      <td>S0002</td>\n",
       "      <td>2017-01-02</td>\n",
       "      <td>0.0</td>\n",
       "      <td>0.00</td>\n",
       "      <td>8.0</td>\n",
       "      <td>6.25</td>\n",
       "      <td>PR03</td>\n",
       "    </tr>\n",
       "    <tr>\n",
       "      <th>1</th>\n",
       "      <td>P0001</td>\n",
       "      <td>S0012</td>\n",
       "      <td>2017-01-02</td>\n",
       "      <td>1.0</td>\n",
       "      <td>5.30</td>\n",
       "      <td>0.0</td>\n",
       "      <td>6.25</td>\n",
       "      <td>PR03</td>\n",
       "    </tr>\n",
       "    <tr>\n",
       "      <th>2</th>\n",
       "      <td>P0001</td>\n",
       "      <td>S0013</td>\n",
       "      <td>2017-01-02</td>\n",
       "      <td>2.0</td>\n",
       "      <td>10.59</td>\n",
       "      <td>0.0</td>\n",
       "      <td>6.25</td>\n",
       "      <td>PR03</td>\n",
       "    </tr>\n",
       "    <tr>\n",
       "      <th>3</th>\n",
       "      <td>P0001</td>\n",
       "      <td>S0023</td>\n",
       "      <td>2017-01-02</td>\n",
       "      <td>0.0</td>\n",
       "      <td>0.00</td>\n",
       "      <td>6.0</td>\n",
       "      <td>6.25</td>\n",
       "      <td>PR03</td>\n",
       "    </tr>\n",
       "    <tr>\n",
       "      <th>4</th>\n",
       "      <td>P0001</td>\n",
       "      <td>S0025</td>\n",
       "      <td>2017-01-02</td>\n",
       "      <td>0.0</td>\n",
       "      <td>0.00</td>\n",
       "      <td>1.0</td>\n",
       "      <td>6.25</td>\n",
       "      <td>PR03</td>\n",
       "    </tr>\n",
       "  </tbody>\n",
       "</table>\n",
       "</div>"
      ],
      "text/plain": [
       "  product_id store_id        date  sales  revenue  stock  price promo_type_2\n",
       "0      P0001    S0002  2017-01-02    0.0     0.00    8.0   6.25         PR03\n",
       "1      P0001    S0012  2017-01-02    1.0     5.30    0.0   6.25         PR03\n",
       "2      P0001    S0013  2017-01-02    2.0    10.59    0.0   6.25         PR03\n",
       "3      P0001    S0023  2017-01-02    0.0     0.00    6.0   6.25         PR03\n",
       "4      P0001    S0025  2017-01-02    0.0     0.00    1.0   6.25         PR03"
      ]
     },
     "execution_count": 5,
     "metadata": {},
     "output_type": "execute_result"
    }
   ],
   "source": [
    "df.drop(columns=['promo_type_1', 'promo_bin_1','promo_bin_2','promo_discount_2','promo_discount_type_2'], inplace=True)\n",
    "df.head()"
   ]
  },
  {
   "cell_type": "code",
   "execution_count": 8,
   "metadata": {},
   "outputs": [
    {
     "name": "stdout",
     "output_type": "stream",
     "text": [
      "<class 'pandas.core.frame.DataFrame'>\n",
      "RangeIndex: 19454838 entries, 0 to 19454837\n",
      "Data columns (total 8 columns):\n",
      " #   Column        Dtype  \n",
      "---  ------        -----  \n",
      " 0   product_id    object \n",
      " 1   store_id      object \n",
      " 2   date          object \n",
      " 3   sales         float64\n",
      " 4   revenue       float64\n",
      " 5   stock         float64\n",
      " 6   price         float64\n",
      " 7   promo_type_2  object \n",
      "dtypes: float64(4), object(4)\n",
      "memory usage: 1.2+ GB\n"
     ]
    }
   ],
   "source": [
    "df.info()"
   ]
  },
  {
   "cell_type": "code",
   "execution_count": 9,
   "metadata": {},
   "outputs": [
    {
     "data": {
      "text/plain": [
       "(19454838, 8)"
      ]
     },
     "execution_count": 9,
     "metadata": {},
     "output_type": "execute_result"
    }
   ],
   "source": [
    "df.shape"
   ]
  },
  {
   "cell_type": "code",
   "execution_count": null,
   "metadata": {},
   "outputs": [],
   "source": [
    "df_string = df.to_string(index=False)"
   ]
  },
  {
   "cell_type": "code",
   "execution_count": 6,
   "metadata": {},
   "outputs": [],
   "source": [
    "# import pandas as pd\n",
    "# import matplotlib.pyplot as plt\n",
    "\n",
    "# summary = df.groupby(['store_id', 'product_id']).sum()\n",
    "\n",
    "# # Display the summary\n",
    "# # print(summary)\n",
    "\n",
    "# # Plotting the stock vs. sales for each product in each store\n",
    "# fig, ax = plt.subplots()\n",
    "\n",
    "# for store_id in df['store_id'].unique():\n",
    "#     for product in df[df['store_id'] == store_id]['product_id'].unique():\n",
    "#         data = df[(df['store_id'] == store_id) & (df['product_id'] == product)]\n",
    "#         ax.plot(data['date'], data['stock'], label=f'Store {store_id} - Product {product} Stock')\n",
    "#         ax.plot(data['date'], data['sales'], label=f'Store {store_id} - Product {product} Sales')\n",
    "\n",
    "# ax.set_xlabel('date')\n",
    "# ax.set_ylabel('Count')\n",
    "# ax.set_title('Stock vs. Sales Comparison')\n",
    "# ax.legend(loc='best')\n",
    "# plt.xticks(rotation=45)\n",
    "# plt.tight_layout()\n",
    "# plt.show()\n"
   ]
  },
  {
   "cell_type": "code",
   "execution_count": 7,
   "metadata": {},
   "outputs": [
    {
     "name": "stderr",
     "output_type": "stream",
     "text": [
      "C:\\Users\\eDominer\\AppData\\Local\\Temp\\ipykernel_5388\\3670138312.py:1: LangChainDeprecationWarning: The class `LLMChain` was deprecated in LangChain 0.1.17 and will be removed in 1.0. Use :meth:`~RunnableSequence, e.g., `prompt | llm`` instead.\n",
      "  llm_chain = LLMChain(llm=llm, prompt=prompt)\n",
      "C:\\Users\\eDominer\\AppData\\Local\\Temp\\ipykernel_5388\\3670138312.py:3: LangChainDeprecationWarning: The method `Chain.run` was deprecated in langchain 0.1.0 and will be removed in 1.0. Use :meth:`~invoke` instead.\n",
      "  prediction = llm_chain.run({\"data\": stock_data})\n"
     ]
    },
    {
     "data": {
      "text/plain": [
       "\"Based on the provided data, I'll analyze the sales trends and product popularity to predict the stock needs for the next month. I'll also provide recommendations to move products from stores with lower demand to stores with higher demand.\\n\\n**Predictions:**\\n\\n1. StoreID: 1, Product: A, Predicted Stock: 65\\n2. StoreID: 1, Product: B, Predicted Stock: 120\\n3. StoreID: 2, Product: A, Predicted Stock: 80\\n4. StoreID: 2, Product: B, Predicted Stock: 140\\n5. StoreID: 3, Product: A, Predicted Stock: 75\\n6. StoreID: 3, Product: B, Predicted Stock: 110\\n\\n**Recommendations:**\\n\\n1. Move 10 units of Product A from Store 3 to Store 1 (Store 1 has a higher demand for Product A, and Store 3 has a lower demand)\\n2. Move 20 units of Product B from Store 2 to Store 1 (Store 1 has a higher demand for Product B, and Store 2 has a lower demand)\\n\\n**Analysis:**\\n\\nThe predictions are based on the following observations:\\n\\n* Product A has a consistent sales trend, with a slight decline over the past six months. The predicted stock levels are based on this trend, with a slight adjustment to account for potential stock shortages.\\n* Product B has a more variable sales trend, with a higher demand in the first three months and a lower demand in the last three months. The predicted stock levels are based on the average sales trend, with an adjustment to account for potential stock shortages.\\n* Store 1 has a higher demand for both products, while Store 3 has a lower demand. This suggests that products should be moved from Store 3 to Store 1 to meet the higher demand.\\n* Store 2 has a higher demand for Product B, but a lower demand for Product A. This suggests that Product B should be moved from Store 2 to Store 1, while Product A should be moved from Store 3 to Store 1.\\n\\nNote that these predictions and recommendations are based on a simple analysis of the provided data and may not reflect real-world complexities. In a real-world scenario, additional factors such as seasonality, competition, and supply chain constraints would need to be considered.\""
      ]
     },
     "execution_count": 7,
     "metadata": {},
     "output_type": "execute_result"
    }
   ],
   "source": [
    "sequence = RunnableSequence(prompt, llm)\n",
    "\n",
    "prediction = sequence.invoke({\"data\": df_string})\n",
    "\n",
    "print(prediction.content)"
   ]
  },
  {
   "cell_type": "code",
   "execution_count": 8,
   "metadata": {},
   "outputs": [
    {
     "data": {
      "text/plain": [
       "\"<p>Based on the provided data, I'll analyze the sales trends and product popularity to predict the stock needs for the next month. I'll also provide recommendations to move products from stores with lower demand to stores with higher demand.</p>\\n<p><strong>Predictions:</strong></p>\\n<ol>\\n<li>StoreID: 1, Product: A, Predicted Stock: 65</li>\\n<li>StoreID: 1, Product: B, Predicted Stock: 120</li>\\n<li>StoreID: 2, Product: A, Predicted Stock: 80</li>\\n<li>StoreID: 2, Product: B, Predicted Stock: 140</li>\\n<li>StoreID: 3, Product: A, Predicted Stock: 75</li>\\n<li>StoreID: 3, Product: B, Predicted Stock: 110</li>\\n</ol>\\n<p><strong>Recommendations:</strong></p>\\n<ol>\\n<li>Move 10 units of Product A from Store 3 to Store 1 (Store 1 has a higher demand for Product A, and Store 3 has a lower demand)</li>\\n<li>Move 20 units of Product B from Store 2 to Store 1 (Store 1 has a higher demand for Product B, and Store 2 has a lower demand)</li>\\n</ol>\\n<p><strong>Analysis:</strong></p>\\n<p>The predictions are based on the following observations:</p>\\n<ul>\\n<li>Product A has a consistent sales trend, with a slight decline over the past six months. The predicted stock levels are based on this trend, with a slight adjustment to account for potential stock shortages.</li>\\n<li>Product B has a more variable sales trend, with a higher demand in the first three months and a lower demand in the last three months. The predicted stock levels are based on the average sales trend, with an adjustment to account for potential stock shortages.</li>\\n<li>Store 1 has a higher demand for both products, while Store 3 has a lower demand. This suggests that products should be moved from Store 3 to Store 1 to meet the higher demand.</li>\\n<li>Store 2 has a higher demand for Product B, but a lower demand for Product A. This suggests that Product B should be moved from Store 2 to Store 1, while Product A should be moved from Store 3 to Store 1.</li>\\n</ul>\\n<p>Note that these predictions and recommendations are based on a simple analysis of the provided data and may not reflect real-world complexities. In a real-world scenario, additional factors such as seasonality, competition, and supply chain constraints would need to be considered.</p>\""
      ]
     },
     "execution_count": 8,
     "metadata": {},
     "output_type": "execute_result"
    }
   ],
   "source": [
    "import markdown\n",
    "\n",
    "html = markdown.markdown(prediction)\n"
   ]
  },
  {
   "cell_type": "code",
   "execution_count": null,
   "metadata": {},
   "outputs": [],
   "source": []
  }
 ],
 "metadata": {
  "kernelspec": {
   "display_name": "base",
   "language": "python",
   "name": "python3"
  },
  "language_info": {
   "codemirror_mode": {
    "name": "ipython",
    "version": 3
   },
   "file_extension": ".py",
   "mimetype": "text/x-python",
   "name": "python",
   "nbconvert_exporter": "python",
   "pygments_lexer": "ipython3",
   "version": "3.12.7"
  }
 },
 "nbformat": 4,
 "nbformat_minor": 2
}
