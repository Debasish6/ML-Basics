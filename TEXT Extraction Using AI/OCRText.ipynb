{
 "cells": [
  {
   "cell_type": "code",
   "execution_count": 1,
   "metadata": {},
   "outputs": [],
   "source": [
    "import tensorflow as tf\n",
    "from tensorflow.keras import layers,models\n",
    "from tensorflow.keras.models import Sequential\n",
    "from tensorflow.keras.layers import Embedding,LSTM,Dense\n",
    "import pytesseract\n",
    "pytesseract.pytesseract.tesseract_cmd = r'C:\\\\Program Files\\\\Tesseract-OCR\\\\tesseract.exe'\n",
    "from PIL import Image\n",
    "import numpy as np\n",
    "import cv2\n",
    "from pytesseract import Output\n",
    "import pandas as pd\n",
    "from pdfminer.high_level import extract_text\n",
    "import re"
   ]
  },
  {
   "cell_type": "code",
   "execution_count": 2,
   "metadata": {},
   "outputs": [],
   "source": [
    "# Loading Labeled Dataset\n",
    "# x_train, y_train = load_labeled_data()"
   ]
  },
  {
   "cell_type": "code",
   "execution_count": 2,
   "metadata": {},
   "outputs": [],
   "source": [
    "img_path = r\"C:\\Users\\iamde\\GitHub\\ML-Basics\\TEXT Extraction Using AI\\Edominer-1201_page-1.jpg\"\n",
    "annotations_path = r\"C:\\Users\\iamde\\GitHub\\ML-Basics\\TEXT Extraction Using AI\\Edominer-1201_page-1.xml\""
   ]
  },
  {
   "cell_type": "code",
   "execution_count": 3,
   "metadata": {},
   "outputs": [
    {
     "name": "stdout",
     "output_type": "stream",
     "text": [
      "Image Shape: (3505, 2480, 3)\n"
     ]
    }
   ],
   "source": [
    "def load_image(img_path):\n",
    "    img = cv2.imread(img_path)\n",
    "    \n",
    "    # Check if image was loaded successfully\n",
    "    if img is None:\n",
    "        print(f\"Error: Could not load image at path: {img_path}\")\n",
    "        return FileNotFoundError  # raise an exception \n",
    "    \n",
    "    img = cv2.cvtColor(img, cv2.COLOR_BGR2RGB)\n",
    "    return img\n",
    "\n",
    "image = load_image(img_path)\n",
    "\n",
    "# Check if image loading was successful before proceeding\n",
    "if image is not None:\n",
    "    print(\"Image Shape:\",image.shape)\n",
    "else:\n",
    "    print(\"Image loading failed. Exiting.\")"
   ]
  },
  {
   "cell_type": "code",
   "execution_count": 4,
   "metadata": {},
   "outputs": [
    {
     "name": "stdout",
     "output_type": "stream",
     "text": [
      "Image Shape: (3505, 2480, 3)\n"
     ]
    }
   ],
   "source": [
    "print(\"Image Shape:\",image.shape)"
   ]
  },
  {
   "cell_type": "code",
   "execution_count": 5,
   "metadata": {},
   "outputs": [
    {
     "data": {
      "text/plain": [
       "-1"
      ]
     },
     "execution_count": 5,
     "metadata": {},
     "output_type": "execute_result"
    }
   ],
   "source": [
    "cv2.imshow('Image', image)\n",
    "cv2.waitKey(0)"
   ]
  },
  {
   "cell_type": "code",
   "execution_count": 6,
   "metadata": {},
   "outputs": [],
   "source": [
    "import os\n",
    "from lxml import etree\n",
    "\n",
    "def load_annotations(xml_path):\n",
    "    tree = etree.parse(xml_path)\n",
    "    root = tree.getroot()\n",
    "    bboxes = []\n",
    "    for obj in root.findall('object'):\n",
    "        bbox = obj.find('bndbox')\n",
    "        xmin = int(bbox.find('xmin').text)\n",
    "        ymin = int(bbox.find('ymin').text)\n",
    "        xmax = int(bbox.find('xmax').text)\n",
    "        ymax = int(bbox.find('ymax').text)\n",
    "        bboxes.append([xmin, ymin, xmax, ymax])\n",
    "    return bboxes\n",
    "\n",
    "\n",
    "\n",
    "bboxes = load_annotations(annotations_path)"
   ]
  },
  {
   "cell_type": "code",
   "execution_count": 7,
   "metadata": {},
   "outputs": [
    {
     "name": "stdout",
     "output_type": "stream",
     "text": [
      "Bounding Boxes: [[140, 375, 1405, 472], [138, 469, 886, 518], [140, 518, 894, 567], [421, 640, 1086, 704], [419, 704, 1081, 848], [419, 856, 1094, 904], [419, 904, 1100, 956], [419, 953, 1092, 1002], [416, 999, 1094, 1056], [413, 1050, 1094, 1113], [135, 631, 424, 1107], [1097, 642, 1554, 737], [1562, 637, 2038, 742], [148, 1177, 1097, 1237], [148, 1231, 1089, 1377], [148, 1380, 1089, 1431], [146, 1429, 711, 1485], [719, 1429, 1081, 1485], [148, 1483, 1081, 1540], [154, 1685, 2038, 1753], [184, 1745, 1146, 3213]]\n"
     ]
    }
   ],
   "source": [
    "print(\"Bounding Boxes:\",bboxes)"
   ]
  },
  {
   "cell_type": "code",
   "execution_count": 8,
   "metadata": {},
   "outputs": [
    {
     "name": "stdout",
     "output_type": "stream",
     "text": [
      "(1, 3505, 2480, 3)\n",
      "(21, 4)\n"
     ]
    }
   ],
   "source": [
    "#training data\n",
    "x_train = np.array([image])\n",
    "y_train = np.array(bboxes)\n",
    "\n",
    "print(x_train.shape)\n",
    "print(y_train.shape)"
   ]
  },
  {
   "cell_type": "code",
   "execution_count": 10,
   "metadata": {},
   "outputs": [
    {
     "data": {
      "text/plain": [
       "array([[[[255, 255, 255],\n",
       "         [255, 255, 255],\n",
       "         [255, 255, 255],\n",
       "         ...,\n",
       "         [255, 255, 255],\n",
       "         [255, 255, 255],\n",
       "         [255, 255, 255]],\n",
       "\n",
       "        [[255, 255, 255],\n",
       "         [255, 255, 255],\n",
       "         [255, 255, 255],\n",
       "         ...,\n",
       "         [255, 255, 255],\n",
       "         [255, 255, 255],\n",
       "         [255, 255, 255]],\n",
       "\n",
       "        [[255, 255, 255],\n",
       "         [255, 255, 255],\n",
       "         [255, 255, 255],\n",
       "         ...,\n",
       "         [255, 255, 255],\n",
       "         [255, 255, 255],\n",
       "         [255, 255, 255]],\n",
       "\n",
       "        ...,\n",
       "\n",
       "        [[255, 255, 255],\n",
       "         [255, 255, 255],\n",
       "         [255, 255, 255],\n",
       "         ...,\n",
       "         [255, 255, 255],\n",
       "         [255, 255, 255],\n",
       "         [255, 255, 255]],\n",
       "\n",
       "        [[255, 255, 255],\n",
       "         [255, 255, 255],\n",
       "         [255, 255, 255],\n",
       "         ...,\n",
       "         [255, 255, 255],\n",
       "         [255, 255, 255],\n",
       "         [255, 255, 255]],\n",
       "\n",
       "        [[255, 255, 255],\n",
       "         [255, 255, 255],\n",
       "         [255, 255, 255],\n",
       "         ...,\n",
       "         [255, 255, 255],\n",
       "         [255, 255, 255],\n",
       "         [255, 255, 255]]]], dtype=uint8)"
      ]
     },
     "execution_count": 10,
     "metadata": {},
     "output_type": "execute_result"
    }
   ],
   "source": [
    "x_train"
   ]
  },
  {
   "cell_type": "code",
   "execution_count": 9,
   "metadata": {},
   "outputs": [
    {
     "data": {
      "text/plain": [
       "array([[ 140,  375, 1405,  472],\n",
       "       [ 138,  469,  886,  518],\n",
       "       [ 140,  518,  894,  567],\n",
       "       [ 421,  640, 1086,  704],\n",
       "       [ 419,  704, 1081,  848],\n",
       "       [ 419,  856, 1094,  904],\n",
       "       [ 419,  904, 1100,  956],\n",
       "       [ 419,  953, 1092, 1002],\n",
       "       [ 416,  999, 1094, 1056],\n",
       "       [ 413, 1050, 1094, 1113],\n",
       "       [ 135,  631,  424, 1107],\n",
       "       [1097,  642, 1554,  737],\n",
       "       [1562,  637, 2038,  742],\n",
       "       [ 148, 1177, 1097, 1237],\n",
       "       [ 148, 1231, 1089, 1377],\n",
       "       [ 148, 1380, 1089, 1431],\n",
       "       [ 146, 1429,  711, 1485],\n",
       "       [ 719, 1429, 1081, 1485],\n",
       "       [ 148, 1483, 1081, 1540],\n",
       "       [ 154, 1685, 2038, 1753],\n",
       "       [ 184, 1745, 1146, 3213]])"
      ]
     },
     "execution_count": 9,
     "metadata": {},
     "output_type": "execute_result"
    }
   ],
   "source": [
    "y_train"
   ]
  },
  {
   "cell_type": "code",
   "execution_count": null,
   "metadata": {},
   "outputs": [],
   "source": [
    "model =Sequential()\n",
    "model.add(Embedding(10000,128))\n",
    "model.add(LSTM(128))\n",
    "model.add(Dense(20,activation='softmax'))\n",
    "model.compile(loss='categorical_crossentropy',optimizer='adam',matrices=['accuracy'])\n",
    "model.fit(x_train, y_train, epochs=5)\n",
    "\n",
    "print(\"Model training complete.\")\n"
   ]
  },
  {
   "cell_type": "code",
   "execution_count": 9,
   "metadata": {},
   "outputs": [],
   "source": [
    "import numpy as np\n",
    "\n",
    "# If you have a single image, expand its dimension to match batch size\n",
    "images = np.expand_dims(image, axis=0)  # Now the shape is (1, 3505, 2480, 3)\n"
   ]
  },
  {
   "cell_type": "code",
   "execution_count": 10,
   "metadata": {},
   "outputs": [],
   "source": [
    "import tensorflow as tf\n",
    "\n",
    "# Annotations is a NumPy array of shape (20, 4)\n",
    "annotations = np.array(bboxes)\n",
    "\n",
    "# Create a dataset from images and annotations\n",
    "dataset = tf.data.Dataset.from_tensor_slices((images.repeat(len(annotations), axis=0), annotations))\n",
    "\n",
    "# Shuffle and batch the dataset\n",
    "dataset = dataset.shuffle(buffer_size=20).batch(32).prefetch(tf.data.experimental.AUTOTUNE)\n"
   ]
  },
  {
   "cell_type": "code",
   "execution_count": null,
   "metadata": {},
   "outputs": [],
   "source": [
    "model = tf.keras.Sequential([\n",
    "    tf.keras.layers.Conv2D(32, (3, 3), activation='relu', input_shape=(3505, 2480, 3)),\n",
    "    tf.keras.layers.MaxPooling2D((2, 2)),\n",
    "    tf.keras.layers.Flatten(),\n",
    "    tf.keras.layers.Dense(128, activation='relu'),\n",
    "    \n",
    "    # Output for 4 coordinates of bounding box\n",
    "    tf.keras.layers.Dense(4)  \n",
    "])\n",
    "\n",
    "model.compile(optimizer='adam', loss='mse', metrics=['accuracy'])\n",
    "\n",
    "model.fit(dataset, epochs=10)\n",
    "print(\"Model training complete.\")\n"
   ]
  },
  {
   "cell_type": "markdown",
   "metadata": {},
   "source": [
    "# Solution of Out of Memory Error"
   ]
  },
  {
   "cell_type": "code",
   "execution_count": null,
   "metadata": {},
   "outputs": [],
   "source": [
    "def resize_image(image, target_size=(256, 256)):\n",
    "    return cv2.resize(image, target_size)\n",
    "\n",
    "# image_path = 'path/to/your/image.jpg'\n",
    "image = cv2.imread(img_path)\n",
    "image_resized = resize_image(image)\n",
    "image_resized.shape"
   ]
  },
  {
   "cell_type": "code",
   "execution_count": 13,
   "metadata": {},
   "outputs": [],
   "source": [
    "def load_and_preprocess_image(path):\n",
    "    image = cv2.imread(path)\n",
    "    image = cv2.cvtColor(image, cv2.COLOR_BGR2RGB)\n",
    "    image = resize_image(image)\n",
    "    image = image / 255.0\n",
    "    return "
   ]
  },
  {
   "cell_type": "code",
   "execution_count": null,
   "metadata": {},
   "outputs": [],
   "source": [
    "def resize_image(image, target_size=(256, 256)):\n",
    "    return cv2.resize(image, target_size)\n",
    "\n",
    "image_resized = resize_image(image)\n",
    "image_resized.shape"
   ]
  },
  {
   "cell_type": "code",
   "execution_count": null,
   "metadata": {},
   "outputs": [],
   "source": [
    "\n",
    "def load_and_preprocess_image(path):\n",
    "    image = cv2.imread(path)\n",
    "    image = cv2.cvtColor(image, cv2.COLOR_BGR2RGB)\n",
    "    image = resize_image(image)\n",
    "    image = image / 255.0\n",
    "    return image\n",
    "\n",
    "def load_and_preprocess_from_path_label(path, xmin, ymin, xmax, ymax, label):\n",
    "    return load_and_preprocess_image(path), (xmin, ymin, xmax, ymax, label)\n",
    "\n",
    "paths = ['path/to/image1.jpg', 'path/to/image2.jpg']  # Example paths\n",
    "xmins = [100, 200]\n",
    "ymins = [100, 200]\n",
    "xmaxs = [150, 250]\n",
    "ymaxs = [150, 250]\n",
    "labels = [1, 0]\n",
    "\n",
    "dataset = tf.data.Dataset.from_tensor_slices((paths, xmins, ymins, xmaxs, ymaxs, labels))\n",
    "dataset = dataset.map(load_and_preprocess_from_path_label)\n",
    "dataset = dataset.shuffle(buffer_size=1000).batch(4).prefetch(tf.data.experimental.AUTOTUNE)\n"
   ]
  },
  {
   "cell_type": "code",
   "execution_count": 16,
   "metadata": {},
   "outputs": [],
   "source": [
    "input_shape = (256,256,3)\n",
    "# Simple Model\n",
    "model = tf.keras.Sequential([\n",
    "    tf.keras.layers.Input(shape=input_shape),\n",
    "    tf.keras.layers.Conv2D(16, (3, 3), activation='relu'),\n",
    "    tf.keras.layers.MaxPooling2D((2, 2)),\n",
    "    tf.keras.layers.Flatten(),\n",
    "    tf.keras.layers.Dense(64, activation='relu'),\n",
    "    tf.keras.layers.Dense(4)\n",
    "])\n"
   ]
  },
  {
   "cell_type": "code",
   "execution_count": null,
   "metadata": {},
   "outputs": [],
   "source": [
    "tf.keras.mixed_precision.set_global_policy('mixed_float16')\n"
   ]
  },
  {
   "cell_type": "code",
   "execution_count": null,
   "metadata": {},
   "outputs": [],
   "source": [
    "model.compile(optimizer='adam', loss='mse', metrics=['accuracy'])\n",
    "\n",
    "model.fit(dataset, epochs=10)\n",
    "print(\"Model training complete.\")"
   ]
  },
  {
   "cell_type": "code",
   "execution_count": null,
   "metadata": {},
   "outputs": [],
   "source": []
  }
 ],
 "metadata": {
  "kernelspec": {
   "display_name": "tf",
   "language": "python",
   "name": "python3"
  },
  "language_info": {
   "codemirror_mode": {
    "name": "ipython",
    "version": 3
   },
   "file_extension": ".py",
   "mimetype": "text/x-python",
   "name": "python",
   "nbconvert_exporter": "python",
   "pygments_lexer": "ipython3",
   "version": "3.9.20"
  }
 },
 "nbformat": 4,
 "nbformat_minor": 2
}
